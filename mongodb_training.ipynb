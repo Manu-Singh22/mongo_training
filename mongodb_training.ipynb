{
 "cells": [
  {
   "cell_type": "code",
   "execution_count": 1,
   "metadata": {},
   "outputs": [],
   "source": [
    "import pymongo\n"
   ]
  },
  {
   "cell_type": "code",
   "execution_count": 2,
   "metadata": {},
   "outputs": [],
   "source": [
    "dbcon=pymongo.MongoClient(\"mongodb://localhost:27017/\")"
   ]
  },
  {
   "cell_type": "code",
   "execution_count": 3,
   "metadata": {},
   "outputs": [],
   "source": [
    "dbname=\"demodb\"#if the db is not present then it will be created by the command\n",
    "db=dbcon[dbname]"
   ]
  },
  {
   "cell_type": "code",
   "execution_count": 4,
   "metadata": {},
   "outputs": [
    {
     "name": "stdout",
     "output_type": "stream",
     "text": [
      "['admin', 'config', 'demodb', 'local']\n"
     ]
    }
   ],
   "source": [
    "print(dbcon.list_database_names())#it will not show the demodb coz it is empty"
   ]
  },
  {
   "cell_type": "code",
   "execution_count": 5,
   "metadata": {},
   "outputs": [
    {
     "name": "stdout",
     "output_type": "stream",
     "text": [
      "['admin', 'config', 'demodb', 'local']\n",
      "db exists\n"
     ]
    }
   ],
   "source": [
    "#to check whether a db is present or not\n",
    "dblist=dbcon.list_database_names()\n",
    "print(dblist)\n",
    "db_name=\"demodb\"\n",
    "if db_name in dblist:\n",
    "    print(\"db exists\")\n",
    "else:\n",
    "    print(\"db not exists\")"
   ]
  },
  {
   "cell_type": "code",
   "execution_count": 6,
   "metadata": {},
   "outputs": [],
   "source": [
    "collection_name=\"mongo_demo\"#here this collection is being created coz it is already not present\n",
    "collection=db[collection_name]"
   ]
  },
  {
   "cell_type": "code",
   "execution_count": 7,
   "metadata": {},
   "outputs": [],
   "source": [
    "coll_list=db.list_collection_names()#to check the list of collection since there is no collection no result"
   ]
  },
  {
   "cell_type": "code",
   "execution_count": 8,
   "metadata": {},
   "outputs": [],
   "source": [
    "myrow={\"seriel number\":1,\n",
    "       \"name\":\"manu\",\n",
    "       \"rank\":1,\n",
    "       \"salary\":100000000000\n",
    "      }"
   ]
  },
  {
   "cell_type": "code",
   "execution_count": 9,
   "metadata": {},
   "outputs": [],
   "source": [
    "x=collection.insert_one(myrow)"
   ]
  },
  {
   "cell_type": "code",
   "execution_count": 10,
   "metadata": {},
   "outputs": [
    {
     "name": "stdout",
     "output_type": "stream",
     "text": [
      "5f0742f7f2c8ad417a04db51\n"
     ]
    }
   ],
   "source": [
    "print(x.inserted_id)"
   ]
  },
  {
   "cell_type": "code",
   "execution_count": 11,
   "metadata": {},
   "outputs": [],
   "source": [
    "my_rows=[{\"seriel number\":2,\n",
    "          \"name\":\"neelu\",\n",
    "          \"rank\":10,\n",
    "          \"salary\":1000},\n",
    "         \n",
    "         {\"seriel number\":3,\n",
    "          \"name\":\"king\",\n",
    "          \"rank\":4,\n",
    "          \"salary\":10000}]"
   ]
  },
  {
   "cell_type": "code",
   "execution_count": 12,
   "metadata": {},
   "outputs": [],
   "source": [
    "y=collection.insert_many(my_rows)"
   ]
  },
  {
   "cell_type": "code",
   "execution_count": 13,
   "metadata": {},
   "outputs": [
    {
     "name": "stdout",
     "output_type": "stream",
     "text": [
      "[ObjectId('5f0742f8f2c8ad417a04db52'), ObjectId('5f0742f8f2c8ad417a04db53')]\n"
     ]
    }
   ],
   "source": [
    "print(y.inserted_ids)"
   ]
  },
  {
   "cell_type": "code",
   "execution_count": 20,
   "metadata": {},
   "outputs": [
    {
     "name": "stdout",
     "output_type": "stream",
     "text": [
      "{'_id': ObjectId('5f04c043f45275df32308e3e'), 'seriel number': 1, 'name': 'manu', 'rank': 1, 'salary': 100000000000}\n",
      "{'_id': ObjectId('5f04c254f45275df32308e40'), 'seriel number': 2, 'name': 'neelu', 'rank': 10, 'salary': 1000}\n",
      "{'_id': ObjectId('5f04c254f45275df32308e41'), 'seriel number': 3, 'name': 'king', 'rank': 4, 'salary': 10000}\n"
     ]
    }
   ],
   "source": [
    "result=collection.find({}).limit(3)\n",
    "for res in result:\n",
    "    print(res)"
   ]
  },
  {
   "cell_type": "code",
   "execution_count": 15,
   "metadata": {},
   "outputs": [
    {
     "data": {
      "text/plain": [
       "<pymongo.cursor.Cursor at 0x183efb35ec8>"
      ]
     },
     "execution_count": 15,
     "metadata": {},
     "output_type": "execute_result"
    }
   ],
   "source": [
    "result"
   ]
  },
  {
   "cell_type": "code",
   "execution_count": 16,
   "metadata": {},
   "outputs": [
    {
     "name": "stdout",
     "output_type": "stream",
     "text": [
      "<pymongo.cursor.Cursor object at 0x00000183EFB35EC8>\n"
     ]
    }
   ],
   "source": [
    "print(result)"
   ]
  },
  {
   "cell_type": "code",
   "execution_count": 17,
   "metadata": {},
   "outputs": [
    {
     "data": {
      "text/plain": [
       "{'_id': ObjectId('5f04c254f45275df32308e40'),\n",
       " 'seriel number': 2,\n",
       " 'name': 'neelu',\n",
       " 'rank': 10,\n",
       " 'salary': 1000}"
      ]
     },
     "execution_count": 17,
     "metadata": {},
     "output_type": "execute_result"
    }
   ],
   "source": [
    "result[1]"
   ]
  },
  {
   "cell_type": "code",
   "execution_count": 25,
   "metadata": {},
   "outputs": [
    {
     "name": "stdout",
     "output_type": "stream",
     "text": [
      "{'_id': ObjectId('5f04c043f45275df32308e3e'), 'seriel number': 1, 'rank': 1}\n",
      "{'_id': ObjectId('5f04c254f45275df32308e40'), 'seriel number': 2, 'rank': 10}\n",
      "{'_id': ObjectId('5f04c254f45275df32308e41'), 'seriel number': 3, 'rank': 4}\n",
      "{'_id': ObjectId('5f0742f7f2c8ad417a04db51'), 'seriel number': 1, 'rank': 1}\n",
      "{'_id': ObjectId('5f0742f8f2c8ad417a04db52'), 'seriel number': 2, 'rank': 10}\n",
      "{'_id': ObjectId('5f0742f8f2c8ad417a04db53'), 'seriel number': 3, 'rank': 4}\n"
     ]
    }
   ],
   "source": [
    "result_some=collection.find({},{'seriel number', 'rank'})\n",
    "for res in result_some:\n",
    "    print(res)"
   ]
  },
  {
   "cell_type": "code",
   "execution_count": 30,
   "metadata": {},
   "outputs": [
    {
     "name": "stdout",
     "output_type": "stream",
     "text": [
      "{'_id': ObjectId('5f04c043f45275df32308e3e'), 'seriel number': 1, 'name': 'manu'}\n",
      "{'_id': ObjectId('5f0742f7f2c8ad417a04db51'), 'seriel number': 1, 'name': 'manu'}\n"
     ]
    }
   ],
   "source": [
    "result_query={'rank':1}\n",
    "re_q=collection.find({'rank':1},{'seriel number','name'})\n",
    "for res in re_q:\n",
    "    print(res)\n"
   ]
  },
  {
   "cell_type": "code",
   "execution_count": 31,
   "metadata": {},
   "outputs": [
    {
     "name": "stdout",
     "output_type": "stream",
     "text": [
      "{'_id': ObjectId('5f04c254f45275df32308e40'), 'seriel number': 2, 'name': 'neelu', 'rank': 10, 'salary': 1000}\n",
      "{'_id': ObjectId('5f04c254f45275df32308e41'), 'seriel number': 3, 'name': 'king', 'rank': 4, 'salary': 10000}\n",
      "{'_id': ObjectId('5f0742f8f2c8ad417a04db52'), 'seriel number': 2, 'name': 'neelu', 'rank': 10, 'salary': 1000}\n",
      "{'_id': ObjectId('5f0742f8f2c8ad417a04db53'), 'seriel number': 3, 'name': 'king', 'rank': 4, 'salary': 10000}\n"
     ]
    }
   ],
   "source": [
    "\n",
    "re_q=collection.find({'rank':{'$gt':1}})\n",
    "for res in re_q:\n",
    "    print(res)"
   ]
  },
  {
   "cell_type": "code",
   "execution_count": 37,
   "metadata": {},
   "outputs": [
    {
     "name": "stdout",
     "output_type": "stream",
     "text": [
      "1\n"
     ]
    }
   ],
   "source": [
    "result_query={'rank':1}\n",
    "re_q=collection.delete_many(result_query)\n",
    "print(re_q.deleted_count)\n"
   ]
  },
  {
   "cell_type": "code",
   "execution_count": 38,
   "metadata": {},
   "outputs": [
    {
     "name": "stdout",
     "output_type": "stream",
     "text": [
      "{'_id': ObjectId('5f04c254f45275df32308e40'), 'seriel number': 2, 'rank': 10}\n",
      "{'_id': ObjectId('5f04c254f45275df32308e41'), 'seriel number': 3, 'rank': 4}\n",
      "{'_id': ObjectId('5f0742f8f2c8ad417a04db52'), 'seriel number': 2, 'rank': 10}\n",
      "{'_id': ObjectId('5f0742f8f2c8ad417a04db53'), 'seriel number': 3, 'rank': 4}\n"
     ]
    }
   ],
   "source": [
    "re_q=collection.find({},{'seriel number','rank'})\n",
    "for res in re_q:\n",
    "    print(res)"
   ]
  },
  {
   "cell_type": "code",
   "execution_count": 39,
   "metadata": {},
   "outputs": [
    {
     "name": "stdout",
     "output_type": "stream",
     "text": [
      "2\n"
     ]
    }
   ],
   "source": [
    "up_criteria={'seriel number':2}\n",
    "new_value={'$set':{'seriel number':10}}\n",
    "x=collection.update_many(up_criteria,new_value)\n",
    "print(x.modified_count)"
   ]
  },
  {
   "cell_type": "code",
   "execution_count": 40,
   "metadata": {},
   "outputs": [
    {
     "name": "stdout",
     "output_type": "stream",
     "text": [
      "{'_id': ObjectId('5f04c254f45275df32308e40'), 'seriel number': 10, 'rank': 10}\n",
      "{'_id': ObjectId('5f04c254f45275df32308e41'), 'seriel number': 3, 'rank': 4}\n",
      "{'_id': ObjectId('5f0742f8f2c8ad417a04db52'), 'seriel number': 10, 'rank': 10}\n",
      "{'_id': ObjectId('5f0742f8f2c8ad417a04db53'), 'seriel number': 3, 'rank': 4}\n"
     ]
    }
   ],
   "source": [
    "re_q=collection.find({},{'seriel number','rank'})\n",
    "for res in re_q:\n",
    "    print(res)"
   ]
  },
  {
   "cell_type": "code",
   "execution_count": null,
   "metadata": {},
   "outputs": [],
   "source": []
  }
 ],
 "metadata": {
  "kernelspec": {
   "display_name": "Python 3",
   "language": "python",
   "name": "python3"
  },
  "language_info": {
   "codemirror_mode": {
    "name": "ipython",
    "version": 3
   },
   "file_extension": ".py",
   "mimetype": "text/x-python",
   "name": "python",
   "nbconvert_exporter": "python",
   "pygments_lexer": "ipython3",
   "version": "3.7.6"
  }
 },
 "nbformat": 4,
 "nbformat_minor": 4
}
